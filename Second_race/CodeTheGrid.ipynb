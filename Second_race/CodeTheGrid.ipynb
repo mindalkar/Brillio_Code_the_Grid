{
  "nbformat": 4,
  "nbformat_minor": 0,
  "metadata": {
    "colab": {
      "provenance": []
    },
    "kernelspec": {
      "name": "python3",
      "display_name": "Python 3"
    },
    "language_info": {
      "name": "python"
    }
  },
  "cells": [
    {
      "cell_type": "code",
      "source": [
        "%pip install pandas\n",
        "%pip install xgboost\n",
        "%pip install scikit-learn"
      ],
      "metadata": {
        "id": "P3yBPWjHEOkD",
        "colab": {
          "base_uri": "https://localhost:8080/"
        },
        "outputId": "88f90768-86af-4426-839c-f0556b56fe6e"
      },
      "execution_count": 1,
      "outputs": [
        {
          "output_type": "stream",
          "name": "stdout",
          "text": [
            "Requirement already satisfied: pandas in /usr/local/lib/python3.11/dist-packages (2.2.2)\n",
            "Requirement already satisfied: numpy>=1.23.2 in /usr/local/lib/python3.11/dist-packages (from pandas) (2.0.2)\n",
            "Requirement already satisfied: python-dateutil>=2.8.2 in /usr/local/lib/python3.11/dist-packages (from pandas) (2.9.0.post0)\n",
            "Requirement already satisfied: pytz>=2020.1 in /usr/local/lib/python3.11/dist-packages (from pandas) (2025.2)\n",
            "Requirement already satisfied: tzdata>=2022.7 in /usr/local/lib/python3.11/dist-packages (from pandas) (2025.2)\n",
            "Requirement already satisfied: six>=1.5 in /usr/local/lib/python3.11/dist-packages (from python-dateutil>=2.8.2->pandas) (1.17.0)\n",
            "Requirement already satisfied: xgboost in /usr/local/lib/python3.11/dist-packages (2.1.4)\n",
            "Requirement already satisfied: numpy in /usr/local/lib/python3.11/dist-packages (from xgboost) (2.0.2)\n",
            "Requirement already satisfied: nvidia-nccl-cu12 in /usr/local/lib/python3.11/dist-packages (from xgboost) (2.21.5)\n",
            "Requirement already satisfied: scipy in /usr/local/lib/python3.11/dist-packages (from xgboost) (1.15.3)\n",
            "Requirement already satisfied: scikit-learn in /usr/local/lib/python3.11/dist-packages (1.6.1)\n",
            "Requirement already satisfied: numpy>=1.19.5 in /usr/local/lib/python3.11/dist-packages (from scikit-learn) (2.0.2)\n",
            "Requirement already satisfied: scipy>=1.6.0 in /usr/local/lib/python3.11/dist-packages (from scikit-learn) (1.15.3)\n",
            "Requirement already satisfied: joblib>=1.2.0 in /usr/local/lib/python3.11/dist-packages (from scikit-learn) (1.5.0)\n",
            "Requirement already satisfied: threadpoolctl>=3.1.0 in /usr/local/lib/python3.11/dist-packages (from scikit-learn) (3.6.0)\n"
          ]
        }
      ]
    },
    {
      "cell_type": "code",
      "source": [
        "import warnings\n",
        "warnings.filterwarnings('ignore')\n",
        "import pandas as pd\n",
        "import xgboost as xgb\n",
        "from sklearn.model_selection import train_test_split\n",
        "from sklearn.preprocessing import LabelEncoder"
      ],
      "metadata": {
        "id": "-H1pq2sRNF2p"
      },
      "execution_count": 2,
      "outputs": []
    },
    {
      "cell_type": "code",
      "source": [
        "from google.colab import drive\n",
        "drive.mount('/content/drive', force_remount=True)"
      ],
      "metadata": {
        "colab": {
          "base_uri": "https://localhost:8080/"
        },
        "id": "iDrd1W6ZP_vm",
        "outputId": "d4c9dd8d-0a56-4123-a4d3-3eddb34b77c3"
      },
      "execution_count": 3,
      "outputs": [
        {
          "output_type": "stream",
          "name": "stdout",
          "text": [
            "Mounted at /content/drive\n"
          ]
        }
      ]
    },
    {
      "cell_type": "code",
      "source": [
        "# Load data\n",
        "all_data_df = pd.read_csv(\"/content/drive/MyDrive/Colab Notebooks/data.csv\")\n",
        "#all_data_df = pd.read_csv(\"data.csv\")\n",
        "all_data_df.drop(columns=['Starting Grid Position', 'Qualifying Position', 'Qualifying Time'], inplace=True)\n"
      ],
      "metadata": {
        "id": "_Mt_YfScNHEA"
      },
      "execution_count": 4,
      "outputs": []
    },
    {
      "cell_type": "code",
      "source": [
        "# Create a RaceID to group drivers per race\n",
        "all_data_df['RaceID'] = all_data_df['Season'].astype(str) + \"_\" + all_data_df['Round'].astype(str)\n",
        "all_data_df['Driver actual name'] = all_data_df['Driver Name']\n",
        "all_data_df['Team actual name'] = all_data_df['Team Name']\n"
      ],
      "metadata": {
        "id": "ZqgpUSEkNKck"
      },
      "execution_count": 5,
      "outputs": []
    },
    {
      "cell_type": "code",
      "source": [
        "# Encode categorical columns\n",
        "categorical_cols = [\n",
        "    'Driver Name', 'Team Name', 'Engine Manufacturer',\n",
        "    'Weather Forecast', 'Tire Strategy Estimate',\n",
        "    'Race Name', 'Track Name'\n",
        "]\n",
        "\n",
        "label_encoders = {}\n",
        "for col in categorical_cols:\n",
        "    le = LabelEncoder()\n",
        "    all_data_df[col] = le.fit_transform(all_data_df[col])\n",
        "    label_encoders[col] = le"
      ],
      "metadata": {
        "id": "LT9FkY-KNXOS"
      },
      "execution_count": 6,
      "outputs": []
    },
    {
      "cell_type": "code",
      "source": [
        "all_data_df['Track Temperature'] = all_data_df['Track Temperature'].str.extract('(\\d+)').astype(float)\n",
        "all_data_df['Air Temperature'] = all_data_df['Air Temperature'].str.extract('(\\d+)').astype(float)\n",
        "all_data_df['Wind Speed'] = all_data_df['Wind Speed'].str.extract('(\\d+)').astype(float)\n",
        "all_data_df['Avg Top Speed'] = all_data_df['Avg Top Speed'].str.extract('(\\d+)').astype(float)\n",
        "all_data_df['Rain Probability'] = all_data_df['Rain Probability'].str.extract('(\\d+)').astype(float)\n",
        "\n"
      ],
      "metadata": {
        "id": "0YhBcMVIZRF0"
      },
      "execution_count": 7,
      "outputs": []
    },
    {
      "cell_type": "code",
      "source": [
        "def time_to_seconds(time_str):\n",
        "  \"\"\"Converts time in mm:ss.ms format to seconds.\"\"\"\n",
        "  try:\n",
        "    minutes, rest = time_str.split(\":\")\n",
        "    seconds, milliseconds = rest.split(\".\")\n",
        "    total_seconds = int(minutes) * 60 + int(seconds) + int(milliseconds) / 1000\n",
        "    return total_seconds\n",
        "  except ValueError:\n",
        "    return None"
      ],
      "metadata": {
        "id": "7icLzfELRpRe"
      },
      "execution_count": 8,
      "outputs": []
    },
    {
      "cell_type": "code",
      "source": [
        "df = all_data_df.iloc[:-12]\n",
        "predict_df = all_data_df.iloc[-12:]"
      ],
      "metadata": {
        "id": "CdJ3aUFzwiD9"
      },
      "execution_count": 15,
      "outputs": []
    },
    {
      "cell_type": "code",
      "source": [
        "\n",
        "df = df[df['Finish Position'] != 'RET']\n",
        "df = df[df['Finish Position'] != 'DNF']\n",
        "df = df[df['Finish Position'] != 'DSQ']\n",
        "df = df[df['Finish Position'] != 'DNS']\n",
        "df = df[df['Finish Position'] != 'Ret']\n",
        "df.dropna(subset=['Finish Position'], inplace=True)\n",
        "df['Finish Position'] = df['Finish Position'].astype(int)"
      ],
      "metadata": {
        "id": "OTtSiUmPNlKL"
      },
      "execution_count": 16,
      "outputs": []
    },
    {
      "cell_type": "code",
      "source": [
        "df['Driver Experience'] = df['Driver Experience'].astype(int)\n",
        "predict_df['Driver Experience'] = predict_df['Driver Experience'].astype(int)\n"
      ],
      "metadata": {
        "id": "dBBXUvPnctlB"
      },
      "execution_count": 17,
      "outputs": []
    },
    {
      "cell_type": "code",
      "source": [
        "# Feature columns\n",
        "feature_cols = [\n",
        "    'Driver Experience', 'Driver Avg Finish This Track', 'Team Avg Finish This Track',\n",
        "    'Driver Championship Position', 'Driver Points Season',\n",
        "    'Team Points Season', 'Track Temperature', 'Air Temperature',\n",
        "    'Rain Probability', 'Wind Speed', 'Avg Top Speed',\n",
        "    'Driver Name', 'Team Name', 'Engine Manufacturer', 'Weather Forecast', 'Race Name', 'Track Name'\n",
        "]"
      ],
      "metadata": {
        "id": "hK0Nd9kwNn4a"
      },
      "execution_count": 18,
      "outputs": []
    },
    {
      "cell_type": "code",
      "source": [
        "# Train-test split by races\n",
        "unique_races = df['RaceID'].unique()\n",
        "train_races, test_races = train_test_split(unique_races, test_size=0.3, random_state=40)\n",
        "\n",
        "train_df = df[df['RaceID'].isin(train_races)]\n",
        "test_df = df[df['RaceID'].isin(test_races)]\n",
        "\n",
        "X_train = train_df[feature_cols]\n",
        "y_train = train_df['Finish Position']\n",
        "group_train = train_df.groupby('RaceID').size().tolist()\n",
        "\n",
        "X_test = test_df[feature_cols]\n",
        "y_test = test_df['Finish Position']\n",
        "group_test = test_df.groupby('RaceID').size().tolist()\n",
        "\n",
        "X_predict = predict_df[feature_cols]\n",
        "y_predict = predict_df['Finish Position']\n",
        "group_predict = predict_df.groupby('RaceID').size().tolist()"
      ],
      "metadata": {
        "id": "BXIdZEXyNvTI"
      },
      "execution_count": 19,
      "outputs": []
    },
    {
      "cell_type": "code",
      "source": [
        "# Convert to DMatrix\n",
        "dtrain = xgb.DMatrix(X_train, label=y_train)\n",
        "dtrain.set_group(group_train)\n",
        "\n",
        "dtest = xgb.DMatrix(X_test, label=y_test)\n",
        "dtest.set_group(group_test)\n",
        "\n",
        "# Correct the group_predict for dpredict\n",
        "group_predict = [predict_df.shape[0]]  # Use the total number of rows in predict_df\n",
        "\n",
        "dpredict = xgb.DMatrix(X_predict)  # Use X_predict instead of X_test\n"
      ],
      "metadata": {
        "id": "dn7QBhn9N4Nb"
      },
      "execution_count": 20,
      "outputs": []
    },
    {
      "cell_type": "code",
      "source": [
        "# Train the XGBoost model\n",
        "params = {\n",
        "    'objective': 'rank:pairwise',\n",
        "    'eval_metric': 'rmse',\n",
        "    'eta': 0.3,\n",
        "    'max_depth': 10,\n",
        "    'verbosity': 1\n",
        "}\n",
        "\n",
        "model = xgb.train(\n",
        "    params,\n",
        "    dtrain,\n",
        "    num_boost_round=100,\n",
        "    evals=[(dtest, 'test')],\n",
        "    early_stopping_rounds=10\n",
        ")"
      ],
      "metadata": {
        "colab": {
          "base_uri": "https://localhost:8080/"
        },
        "id": "LOEWpnkxN77e",
        "outputId": "f61c729a-dba5-484a-e8b5-0d847bb29dcd"
      },
      "execution_count": 21,
      "outputs": [
        {
          "output_type": "stream",
          "name": "stdout",
          "text": [
            "[0]\ttest-rmse:8.93626\n",
            "[1]\ttest-rmse:8.93688\n",
            "[2]\ttest-rmse:8.91798\n",
            "[3]\ttest-rmse:8.95517\n",
            "[4]\ttest-rmse:8.92726\n",
            "[5]\ttest-rmse:8.92430\n",
            "[6]\ttest-rmse:8.92032\n",
            "[7]\ttest-rmse:8.90813\n",
            "[8]\ttest-rmse:8.91386\n",
            "[9]\ttest-rmse:8.90679\n",
            "[10]\ttest-rmse:8.91692\n",
            "[11]\ttest-rmse:8.92149\n",
            "[12]\ttest-rmse:8.91768\n",
            "[13]\ttest-rmse:8.92301\n",
            "[14]\ttest-rmse:8.91097\n",
            "[15]\ttest-rmse:8.91160\n",
            "[16]\ttest-rmse:8.90815\n",
            "[17]\ttest-rmse:8.89701\n",
            "[18]\ttest-rmse:8.90146\n",
            "[19]\ttest-rmse:8.90813\n",
            "[20]\ttest-rmse:8.90922\n",
            "[21]\ttest-rmse:8.91369\n",
            "[22]\ttest-rmse:8.91914\n",
            "[23]\ttest-rmse:8.92439\n",
            "[24]\ttest-rmse:8.92034\n",
            "[25]\ttest-rmse:8.92018\n",
            "[26]\ttest-rmse:8.91655\n",
            "[27]\ttest-rmse:8.91597\n"
          ]
        }
      ]
    },
    {
      "cell_type": "code",
      "source": [
        "# Predict and rank\n",
        "test_df['Predicted Score'] = model.predict(dtest)\n",
        "test_df['Predicted Rank'] = test_df.groupby('RaceID')['Predicted Score'].rank(ascending=False)\n",
        "\n",
        "# View predictions\n",
        "print(test_df[['RaceID', 'Driver actual name', 'Team Name', 'Predicted Rank', 'Finish Position']].sort_values(by=['RaceID', 'Predicted Rank']))"
      ],
      "metadata": {
        "colab": {
          "base_uri": "https://localhost:8080/"
        },
        "id": "6SMhyiPEOCvJ",
        "outputId": "216492a8-457f-4b5d-c076-6e2bb54a4a33"
      },
      "execution_count": 22,
      "outputs": [
        {
          "output_type": "stream",
          "name": "stdout",
          "text": [
            "      RaceID Driver actual name  Team Name  Predicted Rank  Finish Position\n",
            "320  2022_14     George Russell          9             1.0                4\n",
            "322  2022_16     George Russell          9             1.0                3\n",
            "325  2022_19     George Russell          9             1.0                5\n",
            "312   2022_6     George Russell          9             1.0                3\n",
            "403  2023_12       Lance Stroll          2             1.0                9\n",
            "..       ...                ...        ...             ...              ...\n",
            "162   2025_5       Pierre Gasly          0             1.0               12\n",
            "124   2025_5       Lance Stroll          2             2.0               14\n",
            "108   2025_5    Fernando Alonso          2             3.0               12\n",
            "92    2025_5     Lewis Hamilton          3             4.0               12\n",
            "76    2025_5    Charles Leclerc          3             5.0                3\n",
            "\n",
            "[136 rows x 5 columns]\n"
          ]
        }
      ]
    },
    {
      "cell_type": "code",
      "source": [
        "predict_df['Predicted Score'] = model.predict(dpredict)\n",
        "predict_df['Predicted Rank'] = predict_df.groupby('RaceID')['Predicted Score'].rank(ascending=False)\n",
        "\n",
        "# View predictions\n",
        "print(predict_df[['RaceID', 'Driver actual name', 'Team Name', 'Predicted Rank', 'Finish Position']].sort_values(by=['RaceID', 'Predicted Rank']))"
      ],
      "metadata": {
        "colab": {
          "base_uri": "https://localhost:8080/"
        },
        "id": "mvh1rEpbz7NC",
        "outputId": "3eb1b066-f6b1-4499-b722-f7e517246415"
      },
      "execution_count": 23,
      "outputs": [
        {
          "output_type": "stream",
          "name": "stdout",
          "text": [
            "     RaceID Driver actual name  Team Name  Predicted Rank Finish Position\n",
            "535  2025_8  Gabriel Bortoleto         13             1.0             TBD\n",
            "533  2025_8       Pierre Gasly          0             2.0             TBD\n",
            "534  2025_8    Nico Hülkenberg          4             3.0             TBD\n",
            "529  2025_8      Oscar Piastri          7             4.0             TBD\n",
            "532  2025_8       Yuki Tsunoda         12             5.0             TBD\n",
            "527  2025_8     George Russell          9             6.0             TBD\n",
            "531  2025_8    Carlos Sainz Jr         18             7.0             TBD\n",
            "530  2025_8         Alex Albon         18             8.0             TBD\n",
            "525  2025_8     Lewis Hamilton          3             9.0             TBD\n",
            "528  2025_8       Lando Norris          7            10.0             TBD\n",
            "526  2025_8    Charles Leclerc          3            11.0             TBD\n",
            "524  2025_8     Max Verstappen         12            12.0             TBD\n"
          ]
        }
      ]
    },
    {
      "cell_type": "markdown",
      "source": [],
      "metadata": {
        "id": "qWUhMa-xFefG"
      }
    },
    {
      "cell_type": "markdown",
      "source": [
        "**Conclusion**\n",
        "\n",
        "For first Race:\n",
        "*   Carlos Sainz Jr. predicted position is 5\n",
        "*   Alexander Albon predicted position is 10\n",
        "*   Constructor point of Atlassian Williams Racins is 10 + 1 = 11\n",
        "\n",
        "\n",
        "For second Race:\n",
        "*   Carlos Sainz Jr. predicted position is 7\n",
        "*   Alexander Albon predicted position is 8\n",
        "*   Constructor point of Atlassian Williams Racins is 6 + 4 = 10"
      ],
      "metadata": {
        "id": "cQLtTD42FOdU"
      }
    },
    {
      "cell_type": "code",
      "source": [],
      "metadata": {
        "id": "zNQZUvhpgWY9"
      },
      "execution_count": null,
      "outputs": []
    }
  ]
}