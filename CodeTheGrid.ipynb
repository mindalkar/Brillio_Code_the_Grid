{
  "nbformat": 4,
  "nbformat_minor": 0,
  "metadata": {
    "colab": {
      "provenance": []
    },
    "kernelspec": {
      "name": "python3",
      "display_name": "Python 3"
    },
    "language_info": {
      "name": "python"
    }
  },
  "cells": [
    {
      "cell_type": "code",
      "source": [
        "%pip install pandas\n",
        "%pip install xgboost\n",
        "%pip install scikit-learn"
      ],
      "metadata": {
        "id": "P3yBPWjHEOkD"
      },
      "execution_count": null,
      "outputs": []
    },
    {
      "cell_type": "code",
      "source": [
        "import warnings\n",
        "warnings.filterwarnings('ignore')\n",
        "import pandas as pd\n",
        "import xgboost as xgb\n",
        "from sklearn.model_selection import train_test_split\n",
        "from sklearn.preprocessing import LabelEncoder"
      ],
      "metadata": {
        "id": "-H1pq2sRNF2p"
      },
      "execution_count": 34,
      "outputs": []
    },
    {
      "cell_type": "code",
      "source": [
        "#from google.colab import drive\n",
        "#drive.mount('/content/drive', force_remount=True)"
      ],
      "metadata": {
        "colab": {
          "base_uri": "https://localhost:8080/"
        },
        "id": "iDrd1W6ZP_vm",
        "outputId": "c8d671a1-d102-4052-8322-db015c372e9f"
      },
      "execution_count": 143,
      "outputs": [
        {
          "output_type": "stream",
          "name": "stdout",
          "text": [
            "Mounted at /content/drive\n"
          ]
        }
      ]
    },
    {
      "cell_type": "code",
      "source": [
        "# Load data\n",
        "#all_data_df = pd.read_csv(\"/content/drive/MyDrive/Colab Notebooks/data.csv\")\n",
        "all_data_df = pd.read_csv(\"data.csv\")\n",
        "all_data_df.drop(columns=['Starting Grid Position', 'Qualifying Position', 'Qualifying Time'], inplace=True)\n"
      ],
      "metadata": {
        "id": "_Mt_YfScNHEA"
      },
      "execution_count": 35,
      "outputs": []
    },
    {
      "cell_type": "code",
      "source": [
        "# Create a RaceID to group drivers per race\n",
        "all_data_df['RaceID'] = all_data_df['Season'].astype(str) + \"_\" + all_data_df['Round'].astype(str)\n",
        "all_data_df['Driver actual name'] = all_data_df['Driver Name']\n",
        "all_data_df['Team actual name'] = all_data_df['Team Name']\n"
      ],
      "metadata": {
        "id": "ZqgpUSEkNKck"
      },
      "execution_count": 36,
      "outputs": []
    },
    {
      "cell_type": "code",
      "source": [
        "# Encode categorical columns\n",
        "categorical_cols = [\n",
        "    'Driver Name', 'Team Name', 'Engine Manufacturer',\n",
        "    'Weather Forecast', 'Tire Strategy Estimate',\n",
        "    'Race Name', 'Track Name'\n",
        "]\n",
        "\n",
        "label_encoders = {}\n",
        "for col in categorical_cols:\n",
        "    le = LabelEncoder()\n",
        "    all_data_df[col] = le.fit_transform(all_data_df[col])\n",
        "    label_encoders[col] = le"
      ],
      "metadata": {
        "id": "LT9FkY-KNXOS"
      },
      "execution_count": 37,
      "outputs": []
    },
    {
      "cell_type": "code",
      "source": [
        "all_data_df['Track Temperature'] = all_data_df['Track Temperature'].str.extract('(\\d+)').astype(float)\n",
        "all_data_df['Air Temperature'] = all_data_df['Air Temperature'].str.extract('(\\d+)').astype(float)\n",
        "all_data_df['Wind Speed'] = all_data_df['Wind Speed'].str.extract('(\\d+)').astype(float)\n",
        "all_data_df['Avg Top Speed'] = all_data_df['Avg Top Speed'].str.extract('(\\d+)').astype(float)\n",
        "all_data_df['Rain Probability'] = all_data_df['Rain Probability'].str.extract('(\\d+)').astype(float)\n",
        "\n"
      ],
      "metadata": {
        "id": "0YhBcMVIZRF0"
      },
      "execution_count": 38,
      "outputs": []
    },
    {
      "cell_type": "code",
      "source": [
        "def time_to_seconds(time_str):\n",
        "  \"\"\"Converts time in mm:ss.ms format to seconds.\"\"\"\n",
        "  try:\n",
        "    minutes, rest = time_str.split(\":\")\n",
        "    seconds, milliseconds = rest.split(\".\")\n",
        "    total_seconds = int(minutes) * 60 + int(seconds) + int(milliseconds) / 1000\n",
        "    return total_seconds\n",
        "  except ValueError:\n",
        "    return None"
      ],
      "metadata": {
        "id": "7icLzfELRpRe"
      },
      "execution_count": 39,
      "outputs": []
    },
    {
      "cell_type": "code",
      "source": [
        "df = all_data_df.iloc[:-16]\n",
        "predict_df = all_data_df.iloc[-16:]"
      ],
      "metadata": {
        "id": "CdJ3aUFzwiD9"
      },
      "execution_count": 40,
      "outputs": []
    },
    {
      "cell_type": "code",
      "source": [
        "\n",
        "df = df[df['Finish Position'] != 'RET']\n",
        "df = df[df['Finish Position'] != 'DNF']\n",
        "df = df[df['Finish Position'] != 'DSQ']\n",
        "df = df[df['Finish Position'] != 'DNS']\n",
        "df = df[df['Finish Position'] != 'Ret']\n",
        "df.dropna(subset=['Finish Position'], inplace=True)\n",
        "df['Finish Position'] = df['Finish Position'].astype(int)"
      ],
      "metadata": {
        "id": "OTtSiUmPNlKL"
      },
      "execution_count": 41,
      "outputs": []
    },
    {
      "cell_type": "code",
      "source": [
        "df['Driver Experience'] = df['Driver Experience'].astype(int)\n",
        "predict_df['Driver Experience'] = predict_df['Driver Experience'].astype(int)\n"
      ],
      "metadata": {
        "id": "dBBXUvPnctlB"
      },
      "execution_count": 42,
      "outputs": []
    },
    {
      "cell_type": "code",
      "source": [
        "# Feature columns\n",
        "feature_cols = [\n",
        "    'Driver Experience', 'Driver Avg Finish This Track', 'Team Avg Finish This Track',\n",
        "    'Driver Championship Position', 'Driver Points Season',\n",
        "    'Team Points Season', 'Track Temperature', 'Air Temperature',\n",
        "    'Rain Probability', 'Wind Speed', 'Avg Top Speed',\n",
        "    'Driver Name', 'Team Name', 'Engine Manufacturer', 'Weather Forecast', 'Race Name', 'Track Name'\n",
        "]"
      ],
      "metadata": {
        "id": "hK0Nd9kwNn4a"
      },
      "execution_count": 43,
      "outputs": []
    },
    {
      "cell_type": "code",
      "source": [
        "# Train-test split by races\n",
        "unique_races = df['RaceID'].unique()\n",
        "train_races, test_races = train_test_split(unique_races, test_size=0.3, random_state=40)\n",
        "\n",
        "train_df = df[df['RaceID'].isin(train_races)]\n",
        "test_df = df[df['RaceID'].isin(test_races)]\n",
        "\n",
        "X_train = train_df[feature_cols]\n",
        "y_train = train_df['Finish Position']\n",
        "group_train = train_df.groupby('RaceID').size().tolist()\n",
        "\n",
        "X_test = test_df[feature_cols]\n",
        "y_test = test_df['Finish Position']\n",
        "group_test = test_df.groupby('RaceID').size().tolist()\n",
        "\n",
        "X_predict = predict_df[feature_cols]\n",
        "y_predict = predict_df['Finish Position']\n",
        "group_predict = predict_df.groupby('RaceID').size().tolist()"
      ],
      "metadata": {
        "id": "BXIdZEXyNvTI"
      },
      "execution_count": 44,
      "outputs": []
    },
    {
      "cell_type": "code",
      "source": [
        "# Convert to DMatrix\n",
        "dtrain = xgb.DMatrix(X_train, label=y_train)\n",
        "dtrain.set_group(group_train)\n",
        "\n",
        "dtest = xgb.DMatrix(X_test, label=y_test)\n",
        "dtest.set_group(group_test)\n",
        "\n",
        "# Correct the group_predict for dpredict\n",
        "group_predict = [predict_df.shape[0]]  # Use the total number of rows in predict_df\n",
        "\n",
        "dpredict = xgb.DMatrix(X_predict)  # Use X_predict instead of X_test\n"
      ],
      "metadata": {
        "id": "dn7QBhn9N4Nb"
      },
      "execution_count": 45,
      "outputs": []
    },
    {
      "cell_type": "code",
      "source": [
        "# Train the XGBoost model\n",
        "params = {\n",
        "    'objective': 'rank:pairwise',\n",
        "    'eval_metric': 'rmse',\n",
        "    'eta': 0.3,\n",
        "    'max_depth': 10,\n",
        "    'verbosity': 1\n",
        "}\n",
        "\n",
        "model = xgb.train(\n",
        "    params,\n",
        "    dtrain,\n",
        "    num_boost_round=100,\n",
        "    evals=[(dtest, 'test')],\n",
        "    early_stopping_rounds=10\n",
        ")"
      ],
      "metadata": {
        "colab": {
          "base_uri": "https://localhost:8080/"
        },
        "id": "LOEWpnkxN77e",
        "outputId": "58d1024e-8845-47f1-a715-f8ea25895711"
      },
      "execution_count": 46,
      "outputs": [
        {
          "output_type": "stream",
          "name": "stdout",
          "text": [
            "[0]\ttest-rmse:8.64545\n",
            "[1]\ttest-rmse:8.63108\n",
            "[2]\ttest-rmse:8.60025\n",
            "[3]\ttest-rmse:8.57104\n",
            "[4]\ttest-rmse:8.54405\n",
            "[5]\ttest-rmse:8.54302\n",
            "[6]\ttest-rmse:8.53824\n",
            "[7]\ttest-rmse:8.52010\n",
            "[8]\ttest-rmse:8.51126\n",
            "[9]\ttest-rmse:8.51157\n",
            "[10]\ttest-rmse:8.49594\n",
            "[11]\ttest-rmse:8.49150\n",
            "[12]\ttest-rmse:8.48025\n",
            "[13]\ttest-rmse:8.47258\n",
            "[14]\ttest-rmse:8.47210\n",
            "[15]\ttest-rmse:8.47775\n",
            "[16]\ttest-rmse:8.47652\n",
            "[17]\ttest-rmse:8.47044\n",
            "[18]\ttest-rmse:8.46622\n",
            "[19]\ttest-rmse:8.46248\n",
            "[20]\ttest-rmse:8.44826\n",
            "[21]\ttest-rmse:8.43765\n",
            "[22]\ttest-rmse:8.44197\n",
            "[23]\ttest-rmse:8.44299\n",
            "[24]\ttest-rmse:8.43801\n",
            "[25]\ttest-rmse:8.42872\n",
            "[26]\ttest-rmse:8.42545\n",
            "[27]\ttest-rmse:8.41747\n",
            "[28]\ttest-rmse:8.41996\n",
            "[29]\ttest-rmse:8.41899\n",
            "[30]\ttest-rmse:8.41477\n",
            "[31]\ttest-rmse:8.41792\n",
            "[32]\ttest-rmse:8.41402\n",
            "[33]\ttest-rmse:8.40656\n",
            "[34]\ttest-rmse:8.40522\n",
            "[35]\ttest-rmse:8.40304\n",
            "[36]\ttest-rmse:8.40094\n",
            "[37]\ttest-rmse:8.39553\n",
            "[38]\ttest-rmse:8.39408\n",
            "[39]\ttest-rmse:8.39877\n",
            "[40]\ttest-rmse:8.39892\n",
            "[41]\ttest-rmse:8.39786\n",
            "[42]\ttest-rmse:8.40526\n",
            "[43]\ttest-rmse:8.40730\n",
            "[44]\ttest-rmse:8.40603\n",
            "[45]\ttest-rmse:8.40385\n",
            "[46]\ttest-rmse:8.40290\n",
            "[47]\ttest-rmse:8.39991\n"
          ]
        }
      ]
    },
    {
      "cell_type": "code",
      "source": [
        "# Predict and rank\n",
        "test_df['Predicted Score'] = model.predict(dtest)\n",
        "test_df['Predicted Rank'] = test_df.groupby('RaceID')['Predicted Score'].rank(ascending=False)\n",
        "\n",
        "# View predictions\n",
        "print(test_df[['RaceID', 'Driver actual name', 'Team Name', 'Predicted Rank', 'Finish Position']].sort_values(by=['RaceID', 'Predicted Rank']))"
      ],
      "metadata": {
        "colab": {
          "base_uri": "https://localhost:8080/"
        },
        "id": "6SMhyiPEOCvJ",
        "outputId": "29c11b44-8d61-41eb-d6e6-a4c1b559a4d0"
      },
      "execution_count": 47,
      "outputs": [
        {
          "output_type": "stream",
          "name": "stdout",
          "text": [
            "      RaceID Driver actual name  Team Name  Predicted Rank  Finish Position\n",
            "456  2022_13        Jack Doohan         17             1.0                1\n",
            "319  2022_13     George Russell          9             2.0                3\n",
            "321  2022_15     George Russell          9             1.0                2\n",
            "324  2022_18     George Russell          9             1.0                8\n",
            "309   2022_3     George Russell          9             1.0                3\n",
            "..       ...                ...        ...             ...              ...\n",
            "162   2025_5       Pierre Gasly          0             1.0               12\n",
            "124   2025_5       Lance Stroll          2             2.0               14\n",
            "108   2025_5    Fernando Alonso          2             3.0               12\n",
            "92    2025_5     Lewis Hamilton          3             4.0               12\n",
            "76    2025_5    Charles Leclerc          3             5.0                3\n",
            "\n",
            "[144 rows x 5 columns]\n"
          ]
        }
      ]
    },
    {
      "cell_type": "code",
      "source": [
        "predict_df['Predicted Score'] = model.predict(dpredict)\n",
        "predict_df['Predicted Rank'] = predict_df.groupby('RaceID')['Predicted Score'].rank(ascending=False)\n",
        "\n",
        "# View predictions\n",
        "print(predict_df[['RaceID', 'Driver actual name', 'Team Name', 'Predicted Rank', 'Finish Position']].sort_values(by=['RaceID', 'Predicted Rank']))"
      ],
      "metadata": {
        "colab": {
          "base_uri": "https://localhost:8080/"
        },
        "id": "mvh1rEpbz7NC",
        "outputId": "6ed330ea-7afd-43dc-b17c-352d928905af"
      },
      "execution_count": 48,
      "outputs": [
        {
          "output_type": "stream",
          "name": "stdout",
          "text": [
            "     RaceID Driver actual name  Team Name  Predicted Rank Finish Position\n",
            "523  2025_7  Gabriel Bortoleto          5             1.0             TBD\n",
            "521  2025_7   Franco iolapinto          0             2.0             TBD\n",
            "526  2025_7       Pierre Gasly          0             3.0             TBD\n",
            "519  2025_7       Esteban Ocon          4             4.0             TBD\n",
            "517  2025_7   Carlos Sainz Jr.         19             5.0             TBD\n",
            "518  2025_7    Fernando Alonso          2             6.0             TBD\n",
            "520  2025_7    Nico Hülkenberg         14             7.5             TBD\n",
            "524  2025_7    Nico Hülkenberg         14             7.5             TBD\n",
            "522  2025_7       Yuki Tsunoda         12             9.0             TBD\n",
            "525  2025_7    Alexander Albon         19            10.0             TBD\n",
            "514  2025_7     George Russell          9            11.0             TBD\n",
            "512  2025_7      Oscar Piastri          7            12.0             TBD\n",
            "516  2025_7     Lewis Hamilton          3            13.0             TBD\n",
            "515  2025_7    Charles Leclerc          3            14.0             TBD\n",
            "513  2025_7     Max Verstappen         13            15.0             TBD\n",
            "511  2025_7       Lando Norris          7            16.0             TBD\n"
          ]
        }
      ]
    },
    {
      "cell_type": "markdown",
      "source": [],
      "metadata": {
        "id": "qWUhMa-xFefG"
      }
    },
    {
      "cell_type": "markdown",
      "source": [
        "**Conclusion**\n",
        "\n",
        "*   Carlos Sainz Jr. predicted position is 5\n",
        "*   Alexander Albon predicted position is 10\n",
        "*   Constructor point of Atlassian Williams Racins is 10 + 1 = 11\n",
        "\n"
      ],
      "metadata": {
        "id": "cQLtTD42FOdU"
      }
    },
    {
      "cell_type": "code",
      "source": [],
      "metadata": {
        "id": "zNQZUvhpgWY9"
      },
      "execution_count": null,
      "outputs": []
    }
  ]
}